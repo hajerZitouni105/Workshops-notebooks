{
 "cells": [
  {
   "attachments": {},
   "cell_type": "markdown",
   "metadata": {},
   "source": [
    "## <font color=Pink>1] Nominal Encoding :</font>\n",
    "\n",
    "#### `1) One Hot Encoding :` \n",
    "This technique is used to convert a categorical variable with 'n' categories into 'n' binary columns. Each binary column represents a single category, and the value is set to 1 if the category is present and 0 otherwise. <br>\n",
    "    - Dummy var trap : twali n-1 , 5ater najmou n7otou 0 f n-1 col ma3neha rahi 1 f nieme col<br>\n",
    "    - Disadvantages : ki yabda 3ndk baaarcha categ implique baarcha columns jdod (dimension tziid) \n",
    "\n",
    "#### `2) One Hot Encoding with many categorical variables :` \n",
    "Ta5tar Akther 10 (par exple) yet3awdou w te5dm 3lihom houma khw el one hot encoding \n",
    "\n",
    "#### `3) Mean Encoding / Target Encoding :` \n",
    "This technique replaces each category with the mean of the --target variable-- for that category. This can be useful when the target variable is continuous and the goal is to predict its value.   \n",
    "\n",
    "#### `4) Count Encoding / Frequency Encoding :` \n",
    "This technique involves replacing each category with the number of times it appears in the dataset. <br>\n",
    "This technique replaces each category with its frequency or occurrence in the dataset. This can be useful for categorical variables with high cardinality. <br>\n",
    "Disadvantage : It will provide same weight if the frequencies are same\n",
    "\n",
    "#### `5) Binary Encoding:`\n",
    "This technique is similar to One-Hot Encoding but with the added benefit of reducing the number of columns required. Each category is assigned a unique binary code, and these codes are used to create the encoded columns.\n",
    "\n",
    "#### `6) Hash Encoding:`\n",
    "This technique is used to reduce the dimensionality of high cardinality categorical variables. Each category is hashed to a fixed-length code, which is used as the encoded value.\n",
    "\n",
    "#### `7) Probability Ratio Encoding:`\n",
    "Example : \n",
    "1. Prob of Survived based on Cabin (Categorical Feature)\n",
    "2. Prob of Not Survived [1-pr(Survived)]\n",
    "3. Pr(Survived)/pr(Not Survived)\n",
    "4. Dictonary to map cabin with prob\n",
    "5. Replace with the categorical feature"
   ]
  },
  {
   "cell_type": "markdown",
   "metadata": {},
   "source": [
    "************************************"
   ]
  },
  {
   "attachments": {},
   "cell_type": "markdown",
   "metadata": {},
   "source": [
    "## <font color=Pink>2] Ordinal Encoding : ( Rank )</font>\n",
    "\n",
    "#### `1) Label Encoding : `\n",
    "This technique is used to convert categorical variables into numerical values by assigning a unique integer value to each category. This technique can be used when there is a natural ordering or hierarchy among the categories.\n",
    "\n",
    "#### `2) Target guided Ordinal Encoding : `\n",
    "This technique replaces each category with the rank of the mean of the target variable for that category. <br>\n",
    "\n",
    "\n",
    "#### `3) Ordinal Encoding: `\n",
    "This technique is similar to Label Encoding but with the added benefit of preserving the order of the categories. The categories are assigned numerical values based on their order or rank."
   ]
  },
  {
   "cell_type": "markdown",
   "metadata": {},
   "source": [
    "****************"
   ]
  },
  {
   "attachments": {},
   "cell_type": "markdown",
   "metadata": {},
   "source": [
    "This scikit-learn library provides the following techniques that are currently implemented: <br>\n",
    "\n",
    "Ordinal<br>\n",
    "One-Hot<br>\n",
    "Binary<br>\n",
    "Helmert Contrast<br>\n",
    "Sum Contrast<br>\n",
    "Polynomial Contrast<br>\n",
    "Backward Difference Contrast<br>\n",
    "Hashing<br>\n",
    "BaseN<br>\n",
    "LeaveOneOut<br>\n",
    "Target Encoding"
   ]
  }
 ],
 "metadata": {
  "kernelspec": {
   "display_name": "Python 3",
   "language": "python",
   "name": "python3"
  },
  "language_info": {
   "name": "python",
   "version": "3.10.0"
  },
  "orig_nbformat": 4,
  "vscode": {
   "interpreter": {
    "hash": "26de051ba29f2982a8de78e945f0abaf191376122a1563185a90213a26c5da77"
   }
  }
 },
 "nbformat": 4,
 "nbformat_minor": 2
}
